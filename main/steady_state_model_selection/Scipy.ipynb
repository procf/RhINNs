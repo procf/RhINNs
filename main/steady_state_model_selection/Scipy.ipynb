{
 "cells": [
  {
   "cell_type": "code",
   "execution_count": 7,
   "id": "15c1417f",
   "metadata": {},
   "outputs": [],
   "source": [
    "import numpy as np\n",
    "import os\n",
    "import sys\n",
    "import pandas as pd\n",
    "import matplotlib.pyplot as plt\n",
    "from time import time\n",
    "from scipy.optimize import curve_fit\n",
    "\n",
    "path = os.getcwd()\n",
    "files = os.listdir(path)\n",
    "df = {}\n",
    "xlsx = pd.ExcelFile('ExpData.xlsx')\n",
    "df = pd.read_excel(xlsx, sheet_name=None)\n",
    "data = [[k,v] for k,v in df.items()] #k is the sheet name, v is the pandas df\n",
    "\n",
    "i = 7\n",
    "\n",
    "X, y = data[i][1]['ShearRate'], data[i][1]['ShearStress']\n",
    "y = np.log10(y)\n",
    "\n",
    "kk = float((np.log10(np.max(10**y))+np.log10(np.min(10**y)))/2)\n",
    "# kk = 0.\n",
    "y = y - kk"
   ]
  },
  {
   "cell_type": "code",
   "execution_count": 8,
   "id": "f2329f41",
   "metadata": {},
   "outputs": [
    {
     "name": "stdout",
     "output_type": "stream",
     "text": [
      "\n",
      "Scipy computation time: 0.18 seconds\n",
      "fitted parameters: [ 0.     0.     1.312 16.775]\n"
     ]
    }
   ],
   "source": [
    "xData = X\n",
    "yData = y\n",
    "\n",
    "def func(data, a, b, c, d):\n",
    "    return np.log10(a + a*(data/b)**0.5 + data*c*(1+(data/d)**2)**-0.5)\n",
    "\n",
    "# some initial parameter values - must be within bounds\n",
    "initialParameters = np.array([10.0, 10.0, 10.0, 10.0])\n",
    "\n",
    "# bounds on parameters - initial parameters must be within these\n",
    "lowerBounds = (1e-6, 1e-6, -np.Inf, 1e-6)\n",
    "upperBounds = (np.Inf, np.Inf, np.Inf, np.Inf)\n",
    "parameterBounds = [lowerBounds, upperBounds]\n",
    "\n",
    "t0 = time()\n",
    "popt, pcov = curve_fit(func, xData, yData, initialParameters, bounds=parameterBounds)\n",
    "\n",
    "runtime = np.round(time()-t0,2)\n",
    "print('\\nScipy computation time: {} seconds'.format(runtime))\n",
    "\n",
    "# values for display of fitted function\n",
    "a, b, c, d = popt\n",
    "\n",
    "# for plotting the fitting results\n",
    "xPlotData = np.linspace(min(xData), max(xData), 101)\n",
    "y_plot = func(xPlotData, a, b, c, d)\n",
    "\n",
    "print('fitted parameters:', np.round(popt,3))"
   ]
  },
  {
   "cell_type": "code",
   "execution_count": null,
   "id": "56ce266c",
   "metadata": {},
   "outputs": [],
   "source": []
  }
 ],
 "metadata": {
  "kernelspec": {
   "display_name": "Python 3 (ipykernel)",
   "language": "python",
   "name": "python3"
  },
  "language_info": {
   "codemirror_mode": {
    "name": "ipython",
    "version": 3
   },
   "file_extension": ".py",
   "mimetype": "text/x-python",
   "name": "python",
   "nbconvert_exporter": "python",
   "pygments_lexer": "ipython3",
   "version": "3.9.12"
  }
 },
 "nbformat": 4,
 "nbformat_minor": 5
}
