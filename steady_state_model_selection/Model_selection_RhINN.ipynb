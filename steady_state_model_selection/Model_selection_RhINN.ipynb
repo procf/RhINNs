{
 "cells": [
  {
   "cell_type": "markdown",
   "id": "212a5f1e",
   "metadata": {},
   "source": [
    "# Data-driven selection of constitutive models via Rheology-informed Neural Networks (RhINNs)\n",
    "\n",
    "This implementation is based on `tensorflow` 2.7.0.\n",
    "You can find documentation for this Jupyter Notebook on GitHub: https://github.com/MilowSa/RhINNs/tree/main/Model_selection_RhINN\n",
    "\n",
    "If you have any questions/inquiries about this project, or if you wanted to brainstorm some research/professional ideas, feel free to shoot me an email: saadat.m@northeastern.edu"
   ]
  },
  {
   "cell_type": "markdown",
   "id": "bb80334d",
   "metadata": {},
   "source": [
    "## Packages"
   ]
  },
  {
   "cell_type": "code",
   "execution_count": 7,
   "id": "2d1ce6e7",
   "metadata": {},
   "outputs": [
    {
     "name": "stdout",
     "output_type": "stream",
     "text": [
      "tf.__version__: 2.7.0\n"
     ]
    }
   ],
   "source": [
    "#%% Importing necessary stuff\n",
    "import tensorflow as tf\n",
    "import numpy as np\n",
    "import os\n",
    "import sys\n",
    "import pandas as pd\n",
    "import matplotlib.pyplot as plt\n",
    "from time import time\n",
    "import tensorflow_probability as tfp\n",
    "import scipy.optimize\n",
    "from tensorflow import keras\n",
    "import math\n",
    "print('tf.__version__:',tf.__version__)"
   ]
  },
  {
   "cell_type": "markdown",
   "id": "5b73da4a",
   "metadata": {},
   "source": [
    "## Turning off GPU cores\n",
    "As other people suggested, running on GPU cores is not actually helping the computation speed: https://developer.apple.com/forums/thread/698901\n",
    "\n",
    "In this cell, I turn off GPU cores are run the program on CPU cores only.\n",
    "\n",
    "Hope `tensorflow-metal` gets faster in the future."
   ]
  },
  {
   "cell_type": "code",
   "execution_count": 8,
   "id": "ad2e28ad",
   "metadata": {},
   "outputs": [
    {
     "data": {
      "text/plain": [
       "[PhysicalDevice(name='/physical_device:CPU:0', device_type='CPU')]"
      ]
     },
     "execution_count": 8,
     "metadata": {},
     "output_type": "execute_result"
    }
   ],
   "source": [
    "#Since running on GPU was actually slower on my machine, I turn down GPU cores in this cell.\n",
    "#You may comment/unomment this cell to see if the performance changes on your machine or not.\n",
    "\n",
    "os.environ['TF_DISABLE_MLC'] = '1'\n",
    "os.environ[\"CUDA_VISIBLE_DEVICES\"] = \"-1\"\n",
    "physical_devices = tf.config.list_physical_devices('GPU')\n",
    "try:\n",
    "  # Disable all GPUS\n",
    "  tf.config.set_visible_devices([], 'GPU')\n",
    "  visible_devices = tf.config.get_visible_devices()\n",
    "  for device in visible_devices:\n",
    "    assert device.device_type != 'GPU'\n",
    "except:\n",
    "  # Invalid device or cannot modify virtual devices once initialized.\n",
    "  pass\n",
    "\n",
    "tf.config.get_visible_devices(\n",
    "    device_type=None\n",
    ")"
   ]
  },
  {
   "cell_type": "markdown",
   "id": "771fb735",
   "metadata": {},
   "source": [
    "## General problem information\n",
    "As is mentioned on the GitHub repo, this code tries to find the best steady-state shear stress vs. shear rate constitutive model from a library of nine (9) constitutive models. The following parameters are required to build the architecture prior to work with the actual data."
   ]
  },
  {
   "cell_type": "code",
   "execution_count": 9,
   "id": "da9aaf1a",
   "metadata": {},
   "outputs": [],
   "source": [
    "DTYPE='float32'\n",
    "tf.keras.backend.set_floatx(DTYPE)\n",
    "tf.random.set_seed(42)\n",
    "\n",
    "log10 = tf.experimental.numpy.log10 #If you're as lazy as I am\n",
    "\n",
    "num_models = 9 #Number of constitutive models\n",
    "num_params = 31 #Number of parameters in the constitutive models\n",
    "input_dim = 1 #Input (shear rate [s**-1]) dimension\n",
    "output_dim = 1 #Output (shear stress [Pa]) dimension"
   ]
  },
  {
   "cell_type": "markdown",
   "id": "d2d3cd03",
   "metadata": {},
   "source": [
    "## Keras instantiation\n",
    "A `tf.keras.Model` is instantiated and the architecture is modified to make a stack of layers connected for each constitutive model and disconnected between each constitutive model."
   ]
  },
  {
   "cell_type": "code",
   "execution_count": 10,
   "id": "f4ecceb1",
   "metadata": {},
   "outputs": [],
   "source": [
    "# Define model architecture\n",
    "#A tf.keras.Model is instantiated here \n",
    "class RhINN(tf.keras.Model):\n",
    "    \"\"\" Set basic architecture of the PINN model.\"\"\"\n",
    "\n",
    "    def __init__(self, lb, ub,\n",
    "            output_dim=1,\n",
    "            num_hidden_layers=4, \n",
    "            num_neurons_per_layer=25,\n",
    "            num_models = num_models,\n",
    "            activation='tanh',\n",
    "            kernel_initializer='glorot_normal',\n",
    "            **kwargs):\n",
    "        super().__init__(**kwargs)\n",
    "        self.lb = lb\n",
    "        self.ub = ub\n",
    "        self.output_dim = output_dim\n",
    "        self.num_hidden_layers = num_hidden_layers\n",
    "        self.num_neurons_per_layer = num_neurons_per_layer\n",
    "        self.num_models = num_models\n",
    "        # In the next line, a stack of num_models x num_hidden_layers are defined\n",
    "        #All layers for each constitutive model are fully connected, while layers in each constitutive model\n",
    "        #do not share information with layers in other constitutive models.\n",
    "        self.lays = [[tf.keras.layers.Dense(num_neurons_per_layer,\n",
    "                                           activation=tf.keras.activations.get(activation),\n",
    "                                           kernel_initializer=kernel_initializer) \n",
    "                                           for j in range(self.num_hidden_layers)] for k in range(self.num_models)]\n",
    "        self.out = tf.keras.layers.Dense(output_dim)\n",
    "        self.normalize = tf.keras.layers.Normalization(axis=-1)\n",
    "        \n",
    "        # Define NN architecture\n",
    "    def call(self, X):\n",
    "        \"\"\"Forward-pass through neural network.\"\"\"\n",
    "        def arch_builder(X, i):\n",
    "            for j in range(self.num_hidden_layers):\n",
    "                X = self.lays[i][j](X)\n",
    "            return X\n",
    "        dump = [self.out(arch_builder(X, i)) for i in range(self.num_models)]\n",
    "        return dump\n",
    "\n",
    "#%% RhINN Solver\n",
    "class RhINNSolver():\n",
    "    def __init__(self, model, X_r):\n",
    "        self.model = model\n",
    "        # Store collocation points\n",
    "        self.x = X_r\n",
    "        # Initialize history of losses and global iteration counter\n",
    "        self.hist = []\n",
    "        self.histD = []\n",
    "        self.iter = 0\n",
    "    \n",
    "    def get_r(self):\n",
    "        u = self.model(self.x)\n",
    "        return self.fun_r(self.x, u)\n",
    "    \n",
    "    def loss_fn(self, X, u):\n",
    "        # Compute phi_r\n",
    "        r = self.get_r()\n",
    "        phi_r = tf.reshape(tf.reduce_mean(tf.square(r), 1), (1,-1))[0]\n",
    "        \n",
    "        # Initialize loss\n",
    "        loss = phi_r\n",
    "        \n",
    "        # Add phi_0 and phi_b to the loss\n",
    "        for j in range(num_models):\n",
    "            u_pred = self.model(X[0])\n",
    "            loss += tf.reduce_mean(tf.square(u - u_pred[j]))\n",
    "        return loss\n",
    "    \n",
    "    def get_grad(self, X, u):\n",
    "        with tf.GradientTape(persistent=False) as tape:\n",
    "            # This tape is for derivatives with\n",
    "            # respect to trainable variables\n",
    "            tape.watch(self.model.trainable_variables)\n",
    "            loss = self.loss_fn(X, u)\n",
    "            \n",
    "        g = tape.gradient(loss, self.model.trainable_variables)\n",
    "        del tape\n",
    "        \n",
    "        return loss, g\n",
    "    \n",
    "    def solve_with_TFoptimizer(self, optimizer, X, u, N=1001):\n",
    "        \"\"\"This method performs a gradient descent type optimization.\"\"\"\n",
    "        \n",
    "        @tf.function\n",
    "        def train_step():\n",
    "            loss, grad_theta = self.get_grad(X, u)\n",
    "            \n",
    "            # Perform gradient descent step\n",
    "            optimizer.apply_gradients(zip(grad_theta, self.\n",
    "                                          model.trainable_variables))\n",
    "            return loss\n",
    "        \n",
    "        for i in range(N):\n",
    "            loss = train_step()\n",
    "            self.current_loss = loss\n",
    "            self.callback()\n",
    "\n",
    "    def solve_with_ScipyOptimizer(self, X, u, method='L-BFGS-B', **kwargs):\n",
    "        \"\"\"This method provides an interface to solve the learning problem\n",
    "        using a routine from scipy.optimize.minimize.\n",
    "        (Tensorflow 1.xx had an interface implemented, which is no longer\n",
    "        supported in Tensorflow 2.xx.)\n",
    "        Type conversion is necessary since scipy-routines are written in Fortran\n",
    "        which requires 64-bit floats instead of 32-bit floats.\"\"\"\n",
    "        \n",
    "        def get_weight_tensor():\n",
    "            \"\"\"Function to return current variables of the model\n",
    "            as 1d tensor as well as corresponding shapes as lists.\"\"\"\n",
    "            \n",
    "            weight_list = []\n",
    "            shape_list = []\n",
    "            \n",
    "            # Loop over all variables, i.e. weight matrices, bias vectors and unknown parameters\n",
    "            for v in self.model.variables:\n",
    "                shape_list.append(v.shape)\n",
    "                weight_list.extend(v.numpy().flatten())\n",
    "            weight_list = tf.convert_to_tensor(weight_list)\n",
    "            return weight_list, shape_list\n",
    "        x0, shape_list = get_weight_tensor()\n",
    "        \n",
    "        def set_weight_tensor(weight_list):\n",
    "            \"\"\"Function which sets list of weights\n",
    "            to variables in the model.\"\"\"\n",
    "            idx = 0\n",
    "            for v in self.model.variables:\n",
    "                vs = v.shape\n",
    "                \n",
    "                # Weight matrices\n",
    "                if len(vs) == 2:  \n",
    "                    sw = vs[0]*vs[1]\n",
    "                    new_val = tf.reshape(weight_list[idx:idx+sw],(vs[0],vs[1]))\n",
    "                    idx += sw\n",
    "                \n",
    "                # Bias vectors\n",
    "                elif len(vs) == 1:\n",
    "                    new_val = weight_list[idx:idx+vs[0]]\n",
    "                    idx += vs[0]\n",
    "                    \n",
    "                # Variables (in case of parameter identification setting)\n",
    "                elif len(vs) == 0:\n",
    "                    new_val = weight_list[idx]\n",
    "                    idx += 1\n",
    "                    \n",
    "                # Assign variables (Casting necessary since scipy requires float64 type)\n",
    "                v.assign(tf.cast(new_val, DTYPE))\n",
    "        \n",
    "        def get_loss_and_grad(w):\n",
    "            \"\"\"Function that provides current loss and gradient\n",
    "            w.r.t the trainable variables as vector. This is mandatory\n",
    "            for the LBFGS minimizer from scipy.\"\"\"\n",
    "            \n",
    "            # Update weights in model\n",
    "            set_weight_tensor(w)\n",
    "            # Determine value of \\phi and gradient w.r.t. \\theta at w\n",
    "            loss, grad = self.get_grad(X, u)\n",
    "            \n",
    "            # Store current loss for callback function \n",
    "            loss = loss.numpy().astype(np.float64)\n",
    "\n",
    "            self.current_loss = loss           \n",
    "            \n",
    "            # Flatten gradient\n",
    "            grad_flat = []\n",
    "            for g in grad:\n",
    "                grad_flat.extend(g.numpy().flatten())\n",
    "            \n",
    "            # Gradient list to array\n",
    "            grad_flat = np.array(grad_flat,dtype=np.float64)\n",
    "            \n",
    "            # Return value and gradient of \\phi as tuple\n",
    "            return loss, grad_flat\n",
    "        \n",
    "        return scipy.optimize.minimize(fun=get_loss_and_grad,\n",
    "                                       x0=x0,\n",
    "                                       jac=True,\n",
    "                                       method=method,\n",
    "                                       callback=self.callback,\n",
    "                                       **kwargs)\n",
    "        \n",
    "    def callback(self, xr=None): # Will be overridden\n",
    "        if self.iter % 50 == 0:\n",
    "            print('It {:05d}: loss = {:10.8e}'.format(self.iter,self.current_loss))\n",
    "        self.hist.append(self.current_loss)\n",
    "        self.iter+=1"
   ]
  },
  {
   "cell_type": "code",
   "execution_count": 11,
   "id": "8850caba",
   "metadata": {},
   "outputs": [],
   "source": [
    "class RhINNInverseModel(RhINN):\n",
    "    def __init__(self, *args, **kwargs):\n",
    "        # Call init of base class\n",
    "        super().__init__(*args,**kwargs)\n",
    "        # Initialize variable for lambda, the tensor that contains those 31 model parameters\n",
    "        #A noise is added to the initial condition to break the symmetry\n",
    "        noise = tf.random.uniform(shape=[num_params], minval = -.05, maxval=.05, dtype=DTYPE, seed=42)\n",
    "        #Those 31 parameters are initialized to unity\n",
    "        self.lambd = tf.Variable(1.*tf.ones(num_params)+noise, trainable=True, dtype=DTYPE)\n",
    "        self.lambd_list = []\n",
    "\n",
    "class RhINNInverse(RhINNSolver):\n",
    "    def fun_r(self, x, u):\n",
    "        \"\"\"Residual of the PDEs\"\"\"\n",
    "        def model_lib(i):\n",
    "            m = tf.constant(1e6, dtype = DTYPE) #Yield threshold parameter for Bingham\n",
    "            #Some of the parameters are inversed (or put inside abs) to ensure stability.\n",
    "            if i == 0: #Power Law\n",
    "                p = 2\n",
    "                eta0, n = [self.model.lambd[j] for j in range(0, 2)]\n",
    "                res = u[i] - (log10(eta0) + n*log10(X_r))\n",
    "                return res\n",
    "            elif i == 1: #Herschel Bulkley\n",
    "                p = 3\n",
    "                eta0, n, sigma_y = [self.model.lambd[j] for j in range(2, 5)]\n",
    "                res = u[i] - log10(eta0*X_r**n+sigma_y)\n",
    "                return res\n",
    "            elif i ==2: #Bingham               \n",
    "                p = 2\n",
    "                eta0, sigma_y = [self.model.lambd[j] for j in range(5, 7)]\n",
    "                res = u[i] -log10((eta0*X_r+sigma_y)*(1-tf.exp(-m*X_r)))\n",
    "                return res\n",
    "            elif i == 3: #Carreau-Yasuda\n",
    "                p = 5\n",
    "                eta0, n, etainf, Lambda, a = [self.model.lambd[j] for j in range(7, 12)]\n",
    "                res = u[i] - log10(X_r*(etainf+(1/eta0-etainf)*(1+(X_r/Lambda)**a)**((-n-1)/a)))\n",
    "                return res\n",
    "            elif i == 4: #TC\n",
    "                p = 3\n",
    "                eta0, gamma_dot_c_inv, sigma_y = [self.model.lambd[j] for j in range(12, 15)]\n",
    "                res = u[i] - log10(sigma_y*(1+tf.math.sqrt(tf.math.abs(X_r*gamma_dot_c_inv))) + eta0*X_r)\n",
    "                return res\n",
    "            elif i == 5: #TCC\n",
    "                p = 4\n",
    "                gamma_dot_c_inv, gamma_dot_ca_inv, sigma_y, k = [self.model.lambd[j] for j in range(15, 19)]\n",
    "                res = u[i] - log10(sigma_y*(1 + (tf.math.abs(X_r*gamma_dot_c_inv))**0.5) + (X_r*k)*(1+(X_r*gamma_dot_ca_inv)**2)**(-0.5))\n",
    "                return res\n",
    "            elif i == 6: #Casson\n",
    "                p = 2\n",
    "                eta0, sigma_y = [self.model.lambd[j] for j in range(19, 21)]\n",
    "                res = u[i] - 2*log10(tf.sqrt(tf.math.abs(sigma_y)) + tf.sqrt(tf.math.abs(eta0)*X_r))\n",
    "                return res\n",
    "            elif i == 7: #TVP\n",
    "                p = 5\n",
    "                eta_s, eta_p, sigma_y, kplus, kminus = [self.model.lambd[j] for j in range(21, 26)]\n",
    "                lambda0 = kplus/(kplus+kminus*X_r)\n",
    "                res = u[i] - log10(sigma_y*lambda0 +eta_s*X_r + eta_p*lambda0*X_r)\n",
    "                return res\n",
    "            elif i == 8: #Steady-state IKH\n",
    "                p = 5\n",
    "                eta_p, cq, k1, k2, k3 = [self.model.lambd[j] for j in range(26, 31)]\n",
    "                res = u[i] - log10(eta_p*X_r + cq +(k1*k3)/(k1+X_r*k2))\n",
    "                return res\n",
    "        return [model_lib(i) for i in range(num_models)]\n",
    "\n",
    "    def callback(self, xr = None):        \n",
    "        if self.iter % 1000 == 0:\n",
    "            print('It: {:05d}, loss = {}'.format(self.iter, np.round(self.current_loss,4)))\n",
    "        \n",
    "        for items in self.current_loss:\n",
    "            #A simple for loop to find out which of those nine models is actually making a NaN.\n",
    "            if math.isnan(items):\n",
    "                print('NaN. It: {:05d}\\nloss = {}.'.format(self.iter, np.round(self.current_loss,4)))\n",
    "                nan = np.argwhere(np.isnan(Selector.current_loss.numpy()))[0][0]\n",
    "                tf.print('{} is diverging.'.format(list(labels.values())[nan]))\n",
    "                sys.exit()\n",
    "\n",
    "        self.hist.append(self.current_loss)\n",
    "        self.iter += 1"
   ]
  },
  {
   "cell_type": "markdown",
   "id": "41cd71bb",
   "metadata": {},
   "source": [
    "## Data, baby, data\n",
    "\n",
    "You may switch between each datasets by changing the `i` parameter.\n",
    "We passed a `log10` function onto the shear stress, because otherwise, the neural net will only learn the pattern at high shear rates. This is a common practice in rheology since we are dealing with data that span over several orders of magnitude."
   ]
  },
  {
   "cell_type": "code",
   "execution_count": 15,
   "id": "755b53f4",
   "metadata": {},
   "outputs": [
    {
     "data": {
      "image/png": "[encoded data removed]",
      "text/plain": [
       "<Figure size 576x432 with 1 Axes>"
      ]
     },
     "metadata": {
      "needs_background": "light"
     },
     "output_type": "display_data"
    }
   ],
   "source": [
    "# This cell fetches the data from an excel file and prepares the data to be fed into the network\n",
    "path = os.getcwd()\n",
    "files = os.listdir(path)\n",
    "df = {}\n",
    "xlsx = pd.ExcelFile('ExpData.xlsx')\n",
    "df = pd.read_excel(xlsx, sheet_name=None)\n",
    "data = [[k,v] for k,v in df.items()] #k is the sheet name, v is the pandas df\n",
    "\n",
    "i = 7 #select between 0 and 12, each is one set of stress vs. shear rate data.\n",
    "\n",
    "X, y = data[i][1]['ShearRate'], data[i][1]['ShearStress']\n",
    "#The output (shear stress) is scaled by passing a log10 function onto the initial shear stress values\n",
    "#Otherwise, the algorithm will only fit to high shear rate datapoints\n",
    "y = np.log10(y)\n",
    "\n",
    "#The following scale factor, kk, is used to normalize the log10(y) around zero, nothing too crazy.\n",
    "kk = float((log10(np.max(10**y))+log10(np.min(10**y)))/2)\n",
    "# kk = 0.\n",
    "y = y - kk\n",
    "\n",
    "X = tf.reshape(tf.convert_to_tensor(X, dtype=DTYPE), (-1,1))\n",
    "y = tf.reshape(tf.convert_to_tensor(y, dtype=DTYPE), (-1,1))\n",
    "X_data, u_data = [X], [y]\n",
    "X_param = X_data\n",
    "u_param = u_data\n",
    "\n",
    "labels = {'PL': 'Power law',\n",
    "          'HB': 'Herschel-Bulkley',\n",
    "          'BH': 'Bingham',\n",
    "         'CY': 'Carreau-Yasuda',\n",
    "         'TC': 'Three-component',\n",
    "         'TCC': 'TCC',\n",
    "         'Casson': 'Casson',\n",
    "         'TVP': 'TVP',\n",
    "         'IKH': 'Steady-state IKH'}\n",
    "\n",
    "#Function points\n",
    "Nf = 401\n",
    "X_r = np.logspace(np.log10(min(X)), np.log10(max(X)), Nf).reshape(-1,1)\n",
    "X_r = tf.convert_to_tensor(X_r, dtype=DTYPE)\n",
    "lb = tf.constant(min(X_r), dtype=DTYPE)\n",
    "ub = tf.constant(max(X_r), dtype=DTYPE)\n",
    "\n",
    "#How the data looks like\n",
    "from matplotlib.pyplot import figure\n",
    "\n",
    "figure(figsize=(8, 6))\n",
    "plt.scatter(X,10**(y+kk)/X, color='k', s=20)\n",
    "plt.xscale('log')\n",
    "plt.yscale('log')\n",
    "plt.xlabel(r'Shear rate [$s^{-1}$]')\n",
    "plt.ylabel('Shear viscosity [Pa.s]')\n",
    "plt.grid()\n",
    "plt.show()\n"
   ]
  },
  {
   "cell_type": "markdown",
   "id": "7a9dcc75",
   "metadata": {},
   "source": [
    "## Model initialization\n",
    "\n",
    "A model is actually built here. For the activation function, `ReLU` was also tested and not much difference was seen. `tanh` in this case provides better stability because of the `log10` scaling that we mentioned above."
   ]
  },
  {
   "cell_type": "code",
   "execution_count": 16,
   "id": "5034f769",
   "metadata": {},
   "outputs": [],
   "source": [
    "#%% Initialize model\n",
    "model = RhINNInverseModel(lb, ub,\n",
    "                              output_dim = output_dim,\n",
    "                              num_hidden_layers=4,\n",
    "                              num_neurons_per_layer=25,\n",
    "                              num_models = num_models,\n",
    "                              activation='tanh',\n",
    "                              kernel_initializer='glorot_normal')\n",
    "\n",
    "model.build(input_shape=(None,input_dim))\n",
    "# Initilize solver\n",
    "Selector = RhINNInverse(model, X_r)\n",
    "\n",
    "# Choose step sizes aka learning rate\n",
    "lr = tf.keras.optimizers.schedules.PiecewiseConstantDecay([200,10000],[1e-3,1e-4,1e-4])"
   ]
  },
  {
   "cell_type": "markdown",
   "id": "251f3f43",
   "metadata": {},
   "source": [
    "## Adam optimizer\n",
    "\n",
    "This is where we train the model."
   ]
  },
  {
   "cell_type": "code",
   "execution_count": 17,
   "id": "f2cb7681",
   "metadata": {
    "scrolled": false
   },
   "outputs": [
    {
     "name": "stdout",
     "output_type": "stream",
     "text": [
      "It: 00000, loss = [8.6022 7.9825 8.9322 8.923  7.9623 7.8754 9.951  8.0872 8.245 ]\n",
      "It: 01000, loss = [0.1143 0.3096 0.2912 0.1575 0.3388 0.3989 0.4119 0.2945 0.4552]\n",
      "It: 02000, loss = [0.0563 0.2338 0.2159 0.0864 0.2527 0.3202 0.3186 0.2166 0.3624]\n",
      "It: 03000, loss = [0.0346 0.1854 0.1676 0.0536 0.1982 0.2624 0.2515 0.1676 0.296 ]\n",
      "It: 04000, loss = [0.0238 0.1441 0.1261 0.0339 0.1531 0.2007 0.1937 0.1262 0.2345]\n",
      "It: 05000, loss = [0.0172 0.1044 0.087  0.0224 0.1106 0.1243 0.1422 0.0879 0.171 ]\n",
      "It: 06000, loss = [0.0125 0.0653 0.0528 0.016  0.0706 0.0453 0.0961 0.0531 0.104 ]\n",
      "It: 07000, loss = [0.0095 0.0305 0.0352 0.0119 0.0405 0.0065 0.0527 0.0277 0.0308]\n",
      "It: 08000, loss = [0.0088 0.0123 0.0334 0.0101 0.0324 0.0038 0.0301 0.0219 0.0295]\n",
      "It: 09000, loss = [0.0085 0.0089 0.0331 0.0088 0.0316 0.0034 0.0259 0.0193 0.0291]\n",
      "It: 10000, loss = [0.0084 0.008  0.0329 0.0078 0.0314 0.0032 0.0241 0.0169 0.0288]\n",
      "It: 11000, loss = [0.0082 0.0078 0.0328 0.007  0.0311 0.0031 0.0235 0.0147 0.0287]\n",
      "It: 12000, loss = [0.0082 0.0076 0.0327 0.0063 0.0309 0.003  0.0232 0.0126 0.0285]\n",
      "It: 13000, loss = [0.0081 0.0076 0.0326 0.0057 0.0307 0.0029 0.0231 0.0106 0.0283]\n",
      "It: 14000, loss = [0.008  0.0075 0.0325 0.0051 0.0306 0.0029 0.023  0.0087 0.0282]\n",
      "It: 15000, loss = [0.008  0.0075 0.0324 0.0046 0.0304 0.0028 0.0229 0.0067 0.0281]\n",
      "It: 16000, loss = [0.008  0.0075 0.0324 0.0043 0.0303 0.0028 0.0229 0.0048 0.0279]\n",
      "It: 17000, loss = [0.0079 0.0074 0.0323 0.004  0.0302 0.0027 0.0228 0.003  0.0279]\n",
      "It: 18000, loss = [0.0079 0.0074 0.0323 0.0038 0.0301 0.0027 0.0228 0.0022 0.0278]\n",
      "It: 19000, loss = [0.0079 0.0074 0.0323 0.0037 0.03   0.0027 0.0228 0.002  0.0278]\n",
      "It: 20000, loss = [0.0079 0.0074 0.0323 0.0036 0.0299 0.0027 0.0228 0.0019 0.0276]\n",
      "It: 21000, loss = [0.0079 0.0074 0.0323 0.0035 0.0298 0.0027 0.0228 0.0019 0.0277]\n",
      "It: 22000, loss = [0.0079 0.0074 0.0322 0.0035 0.0298 0.0026 0.0228 0.0019 0.0276]\n",
      "It: 23000, loss = [0.0079 0.0074 0.0322 0.0034 0.0297 0.0026 0.0228 0.0019 0.0276]\n",
      "It: 24000, loss = [0.0079 0.0074 0.0322 0.0034 0.0296 0.0026 0.0227 0.0019 0.0276]\n",
      "It: 25000, loss = [0.0079 0.0074 0.0322 0.0033 0.0296 0.0026 0.0227 0.0019 0.0276]\n",
      "It: 26000, loss = [0.0079 0.0074 0.0321 0.0033 0.0295 0.0026 0.0227 0.0019 0.0276]\n",
      "It: 27000, loss = [0.0079 0.0074 0.0321 0.0033 0.0294 0.0026 0.0227 0.0019 0.0276]\n",
      "It: 28000, loss = [0.0079 0.0074 0.0323 0.0032 0.0294 0.0026 0.0227 0.0019 0.0276]\n",
      "It: 29000, loss = [0.0079 0.0074 0.0322 0.0032 0.0294 0.0026 0.0228 0.0019 0.0275]\n",
      "It: 30000, loss = [0.0079 0.0074 0.0322 0.0032 0.0292 0.0026 0.0227 0.0019 0.0275]\n",
      "It: 31000, loss = [0.0079 0.0074 0.0322 0.0031 0.0292 0.0026 0.0227 0.0019 0.0275]\n",
      "It: 32000, loss = [0.0079 0.0074 0.0322 0.0031 0.0292 0.0026 0.0227 0.0019 0.0275]\n",
      "It: 33000, loss = [0.0079 0.0074 0.0322 0.0031 0.0291 0.0026 0.0227 0.0019 0.0274]\n",
      "It: 34000, loss = [0.0079 0.0074 0.0322 0.0031 0.0291 0.0026 0.0227 0.0019 0.0274]\n",
      "It: 35000, loss = [0.0079 0.0074 0.0321 0.0031 0.029  0.0026 0.0227 0.0019 0.0274]\n",
      "It: 36000, loss = [0.0079 0.0074 0.0322 0.0031 0.029  0.0026 0.0227 0.0019 0.0274]\n",
      "It: 37000, loss = [0.0079 0.0074 0.0322 0.0031 0.029  0.0026 0.0227 0.0019 0.0274]\n",
      "It: 38000, loss = [0.0079 0.0074 0.0322 0.003  0.0289 0.0026 0.0227 0.0019 0.0275]\n",
      "It: 39000, loss = [0.0079 0.0074 0.0321 0.0031 0.0289 0.0026 0.0227 0.0019 0.0273]\n",
      "It: 40000, loss = [0.0079 0.0074 0.0322 0.003  0.0288 0.0026 0.0227 0.0019 0.0274]\n",
      "\n",
      "Adam computation time: 192.21 seconds\n"
     ]
    }
   ],
   "source": [
    "#%% Solve with Adam optimizer\n",
    "optim = tf.keras.optimizers.Adam(learning_rate=lr)\n",
    "\n",
    "# Start timer\n",
    "t0 = time()\n",
    "iternum = 40001\n",
    "\n",
    "Selector.solve_with_TFoptimizer(optim, X_param, u_param, N=iternum)\n",
    "\n",
    "# Print computation time\n",
    "runtime = np.round(time()-t0,2)\n",
    "print('\\nAdam computation time: {} seconds'.format(runtime))"
   ]
  },
  {
   "cell_type": "markdown",
   "id": "24b448ab",
   "metadata": {},
   "source": [
    "## L-BFGS optimization (optional)\n",
    "\n",
    "This cell will perform L-BFGS optimization on the trained [and flattened] variables of Adam. "
   ]
  },
  {
   "cell_type": "code",
   "execution_count": 38,
   "id": "0761cf3c",
   "metadata": {
    "scrolled": false
   },
   "outputs": [
    {
     "name": "stdout",
     "output_type": "stream",
     "text": [
      "\n",
      "L-BFGS computation time: 1.5941400527954102 seconds\n"
     ]
    }
   ],
   "source": [
    "#%% Solve with L-BFGS optimizer, optional\n",
    "t0 = time()\n",
    "Selector.solve_with_ScipyOptimizer(X_data, u_data,\n",
    "                            method='L-BFGS-B',\n",
    "                            options={'maxiter': 500,\n",
    "                                     'maxfun': 500,\n",
    "                                     'maxcor': 500,\n",
    "                                     'maxls': 500,\n",
    "                                     'ftol': 1.0*np.finfo(float).eps,\n",
    "                                     'gtol' : 1.0*np.finfo(float).eps})\n",
    "print('\\nL-BFGS computation time: {} seconds'.format(time()-t0))"
   ]
  },
  {
   "cell_type": "markdown",
   "id": "adcde867",
   "metadata": {},
   "source": [
    "## Recovered parameters"
   ]
  },
  {
   "cell_type": "code",
   "execution_count": 22,
   "id": "b6157f62",
   "metadata": {},
   "outputs": [
    {
     "data": {
      "text/plain": [
       "array([ 1.4665264e+00,  7.7992082e-01,  1.5436631e+00,  7.5522709e-01,\n",
       "       -1.5402257e-02,  1.0776571e+00,  5.6093302e-02,  2.1913609e-01,\n",
       "       -8.0852711e-01, -2.0824280e+00,  3.5012116e+00,  1.9999959e-01,\n",
       "        9.9372566e-01,  3.3693547e+00,  4.8775934e-02,  3.7731688e+00,\n",
       "        6.8047993e-02,  2.7775347e-02,  1.5391675e+00,  8.7179935e-01,\n",
       "        2.2446115e-02, -2.1633433e-02,  1.7995145e+00,  2.8605107e-02,\n",
       "        1.5104344e+00,  8.2405075e-02,  9.9298024e-01,  1.1118621e-01,\n",
       "       -1.0284858e-03,  1.7664593e+00,  1.5603518e+00], dtype=float32)"
      ]
     },
     "execution_count": 22,
     "metadata": {},
     "output_type": "execute_result"
    }
   ],
   "source": [
    "np.array(model.lambd)"
   ]
  },
  {
   "cell_type": "markdown",
   "id": "a10b06b5",
   "metadata": {},
   "source": [
    "## The best and worst constitutive models"
   ]
  },
  {
   "cell_type": "code",
   "execution_count": 23,
   "id": "f0f0bead",
   "metadata": {},
   "outputs": [
    {
     "name": "stdout",
     "output_type": "stream",
     "text": [
      "TVP is the best model.\n",
      "Bingham is the worst model.\n"
     ]
    }
   ],
   "source": [
    "#To see which models are the best and the worst\n",
    "ls_corr = labels.copy()\n",
    "ls_corr['Exact'] = 'Exact'\n",
    "ls = ls_corr.copy()\n",
    "ls['X'] = 'ShearRate'\n",
    "\n",
    "best = np.argmin(Selector.hist[-1])\n",
    "beststr = '{} is the best model.'.format(list(labels.values())[best])\n",
    "print(beststr)\n",
    "worst = np.argmax(Selector.hist[-1])\n",
    "worststr = '{} is the worst model.'.format(list(labels.values())[worst])\n",
    "print(worststr)"
   ]
  },
  {
   "cell_type": "markdown",
   "id": "fb7022da",
   "metadata": {},
   "source": [
    "## Let's see it"
   ]
  },
  {
   "cell_type": "code",
   "execution_count": 25,
   "id": "7757b6c9",
   "metadata": {
    "scrolled": true
   },
   "outputs": [
    {
     "data": {
      "image/png": "[encoded data removed]",
      "text/plain": [
       "<Figure size 800x800 with 1 Axes>"
      ]
     },
     "metadata": {
      "needs_background": "light"
     },
     "output_type": "display_data"
    }
   ],
   "source": [
    "#A very dirty cell to plot the shear viscosity vs. shear rate\n",
    "\n",
    "m = tf.constant(1e6, dtype = DTYPE) #Yield threshold parameter \n",
    "from matplotlib import pyplot\n",
    "P = model.lambd\n",
    "X, y = data[i][1]['ShearRate'], data[i][1]['ShearStress']\n",
    "outs = np.zeros((len(X),num_models+2))\n",
    "\n",
    "#Constitutive models' behvaior based on the recovered parameters (P)\n",
    "PL = P[0]*X**P[1]\n",
    "HB = P[2]*X**P[3]+P[4]\n",
    "BH = (P[5]*X+P[6])*(1-tf.exp(-m*X))\n",
    "CY = X*((1/P[7]-P[9])*(1+(X/P[10])**P[11])**((-P[8]-1)/P[11])+P[9])\n",
    "TC = P[14] + P[14]*(X*tf.math.abs(P[13]))**0.5+P[12]*X\n",
    "TCC = P[17]+P[17]*(X*tf.math.abs(P[15]))**0.5+X*P[18]*(1+(X*P[16])**2)**(-0.5)\n",
    "Casson = (tf.math.abs(P[20])**0.5+(tf.math.abs(P[19])*X)**0.5)**2\n",
    "lambda0 = P[24]/(P[24]+P[25]*X)\n",
    "TVP = P[23]*lambda0+P[21]*X+P[22]*lambda0*X\n",
    "IKH = P[26]*X + P[27] + (P[28]*P[30])/(P[28]+X*P[29])\n",
    "\n",
    "#Reshaping\n",
    "outs[:,0]=np.reshape((10**kk*PL),(-1,))\n",
    "outs[:,1]=np.reshape((10**kk*HB),(-1,))\n",
    "outs[:,2]=np.reshape((10**kk*BH),(-1,))\n",
    "outs[:,3]=np.reshape((10**kk*CY),(-1,))\n",
    "outs[:,4]=np.reshape((10**kk*TC),(-1,))\n",
    "outs[:,5]=np.reshape((10**kk*TCC),(-1,))\n",
    "outs[:,6]=np.reshape((10**kk*Casson),(-1,))\n",
    "outs[:,7]=np.reshape((10**kk*TVP),(-1,))\n",
    "outs[:,8]=np.reshape((10**kk*IKH),(-1,))\n",
    "outs[:,9]=np.reshape(y,(-1,))\n",
    "outs[:,10]=np.reshape(X,(-1,))\n",
    "\n",
    "#The actual plotting\n",
    "import matplotlib.font_manager\n",
    "from matplotlib import rc\n",
    "rc('font', **{'family': 'Times New Roman', 'serif': ['Computer Modern']})\n",
    "rc('text', usetex=True)\n",
    "colors = ['tab:blue','tab:orange','tab:green',\n",
    "          'tab:red','tab:purple','tab:brown','tab:pink','tab:gray',\n",
    "          'tab:olive','tab:cyan','gold', 'lightcoral', 'k']\n",
    "\n",
    "plt.figure(figsize=(10,10),dpi=80)\n",
    "\n",
    "plt.rc('font', size=20)          # controls default text sizes\n",
    "plt.rc('axes', titlesize=20)     # fontsize of the axes title\n",
    "plt.rc('axes', labelsize=22)    # fontsize of the x and y labels\n",
    "plt.rc('xtick', labelsize=20)    # fontsize of the tick labels\n",
    "plt.rc('ytick', labelsize=20)    # fontsize of the tick labels\n",
    "plt.rc('legend', fontsize=22)    # legend fontsize\n",
    "plt.rc('figure', titlesize=22)  # fontsize of the figure title\n",
    "\n",
    "for items in range(num_models):\n",
    "    \n",
    "    plt.plot(outs[:,-1],outs[:,items]/outs[:,-1], label=list(labels)[items], color=list(colors)[items])\n",
    "\n",
    "plt.scatter(outs[:,-1], outs[:,-2]/outs[:,-1], label='Exact', color='k')\n",
    "\n",
    "plt.legend(ncol=2, handleheight=1., labelspacing=0.01, loc='best', fontsize=30)\n",
    "plt.xlabel('Shear Rate, $\\dot{\\gamma}$ [$s^{-1}$]', fontname = 'Times New Roman', fontsize=40)\n",
    "plt.ylabel('Viscosity, $\\eta$ [Pa.s]', fontname = 'Times New Roman', fontsize=40)\n",
    "plt.xticks(fontname = \"Times New Roman\", fontsize=30)\n",
    "plt.yticks(fontname = \"Times New Roman\", fontsize=30)\n",
    "plt.xscale('log')\n",
    "plt.yscale('log')\n",
    "plt.grid()\n",
    "# plt.savefig('Model prediction for '+str(data[i][0]), bbox_inches='tight', dpi=300)\n",
    "\n",
    "plt.show()"
   ]
  },
  {
   "cell_type": "code",
   "execution_count": null,
   "id": "a6a83d13",
   "metadata": {},
   "outputs": [],
   "source": []
  }
 ],
 "metadata": {
  "kernelspec": {
   "display_name": "Python 3 (ipykernel)",
   "language": "python",
   "name": "python3"
  },
  "language_info": {
   "codemirror_mode": {
    "name": "ipython",
    "version": 3
   },
   "file_extension": ".py",
   "mimetype": "text/x-python",
   "name": "python",
   "nbconvert_exporter": "python",
   "pygments_lexer": "ipython3",
   "version": "3.9.12"
  }
 },
 "nbformat": 4,
 "nbformat_minor": 5
}
